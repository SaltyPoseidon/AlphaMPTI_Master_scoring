{
 "cells": [
  {
   "cell_type": "code",
   "id": "c91e2075f5b553d3",
   "metadata": {
    "ExecuteTime": {
     "end_time": "2025-05-27T11:37:56.047153Z",
     "start_time": "2025-05-27T11:36:32.651150Z"
    }
   },
   "source": [
    "import glob\n",
    "import os\n",
    "import pandas as pd\n",
    "import pyarrow\n",
    "\n",
    "# 1. Пути к данным (относительно корня проекта)\n",
    "\n",
    "DATA_DIR = r'data'\n",
    "TRAIN_DIR = os.path.join(DATA_DIR, 'train_data')\n",
    "TEST_DIR  = os.path.join(DATA_DIR, 'test_data')\n",
    "\n",
    "TRAIN_PATTERN = os.path.join(TRAIN_DIR, 'train_data_*.pq')\n",
    "TEST_PATTERN  = os.path.join(TEST_DIR,  'test_data_*.pq')\n",
    "\n",
    "# 2. Загрузка train-части\n",
    "\n",
    "train_parts = []\n",
    "for p in sorted(glob.glob(TRAIN_PATTERN)):\n",
    "    df = pd.read_parquet(p)\n",
    "    train_parts.append(df)\n",
    "    print(f'{os.path.basename(p):<18} shape={df.shape}')\n",
    "\n",
    "train = pd.concat(train_parts, ignore_index=True)\n",
    "print(f'\\nFULL TRAIN shape = {train.shape}')\n",
    "\n",
    "# target\n",
    "target = pd.read_csv(os.path.join(DATA_DIR, 'train_target.csv'))\n",
    "train = train.merge(target, on='id', how='left')\n",
    "print('После merge с target:', train.shape)\n",
    "\n",
    "# 3. Загрузка test-части\n",
    "\n",
    "test_parts = []\n",
    "for p in sorted(glob.glob(TEST_PATTERN)):\n",
    "    df = pd.read_parquet(p)\n",
    "    test_parts.append(df)\n",
    "    print(f'{os.path.basename(p):<18} shape={df.shape}')\n",
    "\n",
    "test = pd.concat(test_parts, ignore_index=True)\n",
    "print(f'\\nFULL TEST shape  = {test.shape}')\n",
    "test_id = test['id'].values\n",
    "\n",
    "# 4. Быстрый sanity-check\n",
    "\n",
    "print('\\nTrain columns:', len(train.columns))\n",
    "print('Test  columns:', len(test.columns))\n",
    "print('\\nПропуски (train):')\n",
    "print(train.isna().mean().sort_values(ascending=False).head(10))"
   ],
   "outputs": [
    {
     "name": "stdout",
     "output_type": "stream",
     "text": [
      "train_data_0.pq    shape=(1974724, 59)\n",
      "train_data_1.pq    shape=(2107305, 59)\n",
      "train_data_10.pq   shape=(2296372, 59)\n",
      "train_data_11.pq   shape=(2450630, 59)\n",
      "train_data_2.pq    shape=(2080508, 59)\n",
      "train_data_3.pq    shape=(2112592, 59)\n",
      "train_data_4.pq    shape=(2064110, 59)\n",
      "train_data_5.pq    shape=(2150908, 59)\n",
      "train_data_6.pq    shape=(2176452, 59)\n",
      "train_data_7.pq    shape=(2222245, 59)\n",
      "train_data_8.pq    shape=(2242615, 59)\n",
      "train_data_9.pq    shape=(2284256, 59)\n",
      "\n",
      "FULL TRAIN shape = (26162717, 59)\n",
      "После merge с target: (26162717, 60)\n",
      "test_data_0.pq     shape=(2389773, 59)\n",
      "test_data_1.pq     shape=(2334828, 59)\n",
      "\n",
      "FULL TEST shape  = (4724601, 59)\n",
      "\n",
      "Train columns: 60\n",
      "Test  columns: 59\n",
      "\n",
      "Пропуски (train):\n",
      "id            0.0\n",
      "rn            0.0\n",
      "enc_col_30    0.0\n",
      "enc_col_31    0.0\n",
      "enc_col_32    0.0\n",
      "enc_col_33    0.0\n",
      "enc_col_34    0.0\n",
      "enc_col_35    0.0\n",
      "enc_col_36    0.0\n",
      "enc_col_37    0.0\n",
      "dtype: float64\n"
     ]
    }
   ],
   "execution_count": 1
  },
  {
   "cell_type": "code",
   "id": "d12c0e1cd40c19a6",
   "metadata": {
    "ExecuteTime": {
     "end_time": "2025-05-27T11:42:58.399656Z",
     "start_time": "2025-05-27T11:39:20.679593Z"
    }
   },
   "source": [
    "# 5.  Подготовка последовательностей\n",
    "\n",
    "import numpy as np, torch, gc\n",
    "from torch import nn\n",
    "from torch.utils.data import Dataset, DataLoader\n",
    "from torch.nn.utils.rnn import pad_sequence\n",
    "from sklearn.metrics import roc_auc_score\n",
    "from tqdm.auto import tqdm\n",
    "\n",
    "ENC_COLS = [c for c in train.columns if c.startswith('enc_col_')]\n",
    "N_FEATS  = len(ENC_COLS)\n",
    "DEVICE   = 'cuda' if torch.cuda.is_available() else 'cpu'\n",
    "print('DEVICE:', DEVICE)\n",
    "\n",
    "train.sort_values(['id', 'rn'], inplace=True)\n",
    "test.sort_values(['id', 'rn'],  inplace=True)\n",
    "\n",
    "def split_sequences(df):\n",
    "    X   = df[ENC_COLS].to_numpy(np.int16) + 1         # shift +1\n",
    "    ids = df['id'].to_numpy(np.int64)\n",
    "    cuts = np.flatnonzero(np.diff(ids)) + 1\n",
    "    seqs = np.split(X, cuts)\n",
    "    ids_unique = ids[np.concatenate(([0], cuts))]\n",
    "    return ids_unique, seqs\n",
    "\n",
    "ids_train, seqs_train = split_sequences(train)\n",
    "ids_test,  seqs_test  = split_sequences(test)\n",
    "\n",
    "y_full = (\n",
    "    train[['id','target']].drop_duplicates()\n",
    "         .set_index('id').loc[ids_train, 'target']\n",
    "         .to_numpy('int8')\n",
    ")\n",
    "\n",
    "n_uniques = (pd.concat([train[ENC_COLS], test[ENC_COLS]]).max() + 2) \\\n",
    "              .astype(int).tolist()\n",
    "\n",
    "print('train seqs:', len(seqs_train), '| test seqs:', len(seqs_test))"
   ],
   "outputs": [
    {
     "name": "stdout",
     "output_type": "stream",
     "text": [
      "DEVICE: cuda\n",
      "train seqs: 3000000 | test seqs: 500000\n"
     ]
    }
   ],
   "execution_count": 3
  },
  {
   "cell_type": "code",
   "id": "78f06577ac5abab9",
   "metadata": {
    "ExecuteTime": {
     "end_time": "2025-05-27T11:44:56.297914Z",
     "start_time": "2025-05-27T11:44:56.254060Z"
    }
   },
   "source": [
    "# 6.  Dataset\n",
    "\n",
    "class SeqDs(Dataset):\n",
    "    \"\"\"Хранит list[np.ndarray(T,F)]\"\"\"\n",
    "    def __init__(self, seqs, labels=None):\n",
    "        self.seqs   = [torch.from_numpy(s) for s in seqs]\n",
    "        self.labels = None if labels is None else torch.tensor(labels, dtype=torch.float32)\n",
    "    def __len__(self): return len(self.seqs)\n",
    "    def __getitem__(self, i):\n",
    "        return (self.seqs[i], self.labels[i]) if self.labels is not None else self.seqs[i]\n",
    "\n",
    "max_idx = torch.tensor([n-1 for n in n_uniques], dtype=torch.long)   # верхний код каждой фичи\n",
    "\n",
    "def collate_len(batch):\n",
    "    \"\"\"Паддинг\"\"\"\n",
    "    has_label = isinstance(batch[0], tuple)\n",
    "    if has_label:\n",
    "        seqs, ys = zip(*batch)\n",
    "        y = torch.stack(ys)\n",
    "    else:\n",
    "        seqs, y = batch, None\n",
    "\n",
    "    lens = torch.tensor([s.shape[0] for s in seqs], dtype=torch.long)\n",
    "    pad  = pad_sequence(seqs, batch_first=True).long()               # [B,T,F]\n",
    "    pad.clamp_max_(max_idx)                                          # если код > num_embeddings-1\n",
    "    return (pad, lens, y) if y is not None else (pad, lens)"
   ],
   "outputs": [],
   "execution_count": 4
  },
  {
   "cell_type": "code",
   "id": "39bca33ebe4ed82",
   "metadata": {},
   "source": [
    "# 7.  Stratified K-fold  +  test DataLoader\n",
    "\n",
    "from sklearn.model_selection import StratifiedKFold\n",
    "from torch.optim.lr_scheduler import ReduceLROnPlateau\n",
    "\n",
    "K_FOLDS   = 5\n",
    "BATCH     = 512\n",
    "EPOCHS    = 12\n",
    "PATIENCE  = 2\n",
    "INIT_LR   = 1e-3\n",
    "\n",
    "test_dl = DataLoader(\n",
    "    SeqDs(seqs_test),\n",
    "    batch_size  = BATCH,\n",
    "    shuffle     = False,\n",
    "    collate_fn  = collate_len,\n",
    "    num_workers = 0,\n",
    "    pin_memory  = True\n",
    ")\n",
    "\n",
    "oof_pred   = np.zeros(len(ids_train), dtype=np.float32)\n",
    "test_blend = np.zeros(len(ids_test),  dtype=np.float32)\n",
    "\n",
    "skf = StratifiedKFold(n_splits=K_FOLDS, shuffle=True, random_state=42)\n",
    "fold_indices = [val_idx for _, val_idx in skf.split(ids_train, y_full)]\n",
    "np.save(\"fold_indices.npy\", np.array(fold_indices, dtype=object))\n",
    "print(\"fold_indices.npy сохранён\")\n"
   ],
   "outputs": [],
   "execution_count": null
  },
  {
   "cell_type": "code",
   "id": "2dec49aac58d9854",
   "metadata": {
    "ExecuteTime": {
     "end_time": "2025-05-27T11:55:52.466192Z",
     "start_time": "2025-05-27T11:55:52.443594Z"
    }
   },
   "source": [
    "# 7.  Модель  BiGRU4Pool  (last / max / mean / attention)\n",
    "def fast_embed_dim(card):\n",
    "    return min(600, max(4, round(1.6 * card**0.56)))\n",
    "emb_dims = [fast_embed_dim(c) for c in n_uniques]\n",
    "\n",
    "class BiGRU4Pool(nn.Module):\n",
    "    def __init__(self, n_uniq, emb_dims, hidden=128, att_dim=64):\n",
    "        super().__init__()\n",
    "        self.embs = nn.ModuleList([nn.Embedding(c, d, padding_idx=0)\n",
    "                                   for c, d in zip(n_uniq, emb_dims)])\n",
    "        in_dim = sum(emb_dims)\n",
    "        self.sdrop = nn.Dropout2d(0.15)\n",
    "        self.gru   = nn.GRU(in_dim, hidden, num_layers=2,\n",
    "                            batch_first=True, bidirectional=True, dropout=0.2)\n",
    "        self.norm  = nn.LayerNorm(hidden*2)\n",
    "        self.att_w = nn.Linear(hidden*2, att_dim)\n",
    "        self.att_v = nn.Linear(att_dim, 1, bias=False)\n",
    "        self.head  = nn.Sequential(\n",
    "            nn.Linear(hidden*2*4, 256), nn.ReLU(),\n",
    "            nn.Linear(256, 1)\n",
    "        )\n",
    "\n",
    "    def forward(self, x, lens):           # x:[B,T,F]  lens:[B]\n",
    "        cat = torch.cat([e(x[:,:,i]) for i,e in enumerate(self.embs)], -1)\n",
    "        cat = self.sdrop(cat.permute(0,2,1).unsqueeze(3)).squeeze(3).permute(0,2,1)\n",
    "\n",
    "        packed = nn.utils.rnn.pack_padded_sequence(cat, lens.cpu(),\n",
    "                                                   batch_first=True, enforce_sorted=False)\n",
    "        states,_ = self.gru(packed)\n",
    "        states,_ = nn.utils.rnn.pad_packed_sequence(states, batch_first=True)  # [B,T,2H]\n",
    "        states   = self.norm(states)\n",
    "\n",
    "        mask = torch.arange(states.size(1), device=states.device)[None] < lens[:,None]\n",
    "        last = states[torch.arange(len(lens)), lens-1]\n",
    "        maxp = states.masked_fill(~mask.unsqueeze(-1), -1e9).max(1)[0]\n",
    "        mean = states.sum(1) / lens.unsqueeze(1)\n",
    "\n",
    "        score = self.att_v(torch.tanh(self.att_w(states))).squeeze(-1)\n",
    "        score = score.masked_fill(~mask, -1e9)\n",
    "        w     = torch.softmax(score, 1)\n",
    "        att   = (states * w.unsqueeze(-1)).sum(1)\n",
    "\n",
    "        return self.head(torch.cat([last, maxp, mean, att], 1)).squeeze(1)\n",
    "\n",
    "model = BiGRU4Pool(n_uniques, emb_dims, hidden=128).to(DEVICE)\n",
    "opt   = torch.optim.AdamW(model.parameters(), lr=1e-3)\n",
    "lossf = nn.BCEWithLogitsLoss()"
   ],
   "outputs": [],
   "execution_count": 13
  },
  {
   "cell_type": "code",
   "id": "549cf87eb8ba6963",
   "metadata": {
    "ExecuteTime": {
     "end_time": "2025-05-27T11:55:52.488909Z",
     "start_time": "2025-05-27T11:55:52.483495Z"
    }
   },
   "source": [
    "def fast_auc(y_true: np.ndarray, y_prob: np.ndarray) -> float:\n",
    "    order = np.argsort(y_prob)\n",
    "    y_true = y_true[order]\n",
    "    n_pos  = y_true.sum()\n",
    "    n_neg  = len(y_true) - n_pos\n",
    "    rank   = np.cumsum(y_true[::-1])[::-1].sum()\n",
    "    return (rank - n_pos*(n_pos+1)/2) / (n_pos*n_neg + 1e-8)\n",
    "\n",
    "def run_epoch(dl, train=True, epoch=0, fold=0):\n",
    "    model.train(train)\n",
    "    mode = 'TRN' if train else 'VAL'\n",
    "    bar  = tqdm(dl, leave=False, desc=f'F{fold} {mode} E{epoch:02d}')\n",
    "    tot, preds, gts = 0.0, [], []\n",
    "\n",
    "    for step, (x, lens, y) in enumerate(bar, 1):\n",
    "        x, lens, y = x.to(DEVICE), lens.to(DEVICE), y.to(DEVICE)\n",
    "\n",
    "        with torch.set_grad_enabled(train):\n",
    "            logit = model(x, lens)\n",
    "            loss  = lossf(logit, y)\n",
    "\n",
    "        if train:\n",
    "            opt.zero_grad()\n",
    "            loss.backward()\n",
    "            nn.utils.clip_grad_norm_(model.parameters(), 1.0)\n",
    "            opt.step()\n",
    "\n",
    "        tot += loss.item() * len(x)\n",
    "        preds.append(torch.sigmoid(logit.detach()).cpu())\n",
    "        gts.append(y.cpu())\n",
    "\n",
    "        if step % 200 == 0 and train:\n",
    "            p_np = torch.cat(preds).numpy()\n",
    "            g_np = torch.cat(gts).numpy()\n",
    "            if g_np.min() != g_np.max():\n",
    "                bar.set_postfix({'auc': f'{fast_auc(g_np, p_np):.4f}'})\n",
    "\n",
    "    auc = roc_auc_score(torch.cat(gts).numpy(),\n",
    "                        torch.cat(preds).numpy())\n",
    "    return tot / len(dl.dataset), auc\n"
   ],
   "outputs": [],
   "execution_count": 14
  },
  {
   "cell_type": "code",
   "id": "1b1dd517995a494b",
   "metadata": {
    "ExecuteTime": {
     "end_time": "2025-05-27T17:06:44.971424Z",
     "start_time": "2025-05-27T11:55:52.507901Z"
    }
   },
   "source": [
    "# 8.  Цикл по фолдам\n",
    "\n",
    "for fold, (tr_idx, val_idx) in enumerate(skf.split(ids_train, y_full), 1):\n",
    "    print(f\"\\n─ FOLD {fold}/{K_FOLDS} | train {len(tr_idx)} | val {len(val_idx)} ─\")\n",
    "\n",
    "    train_dl = DataLoader(\n",
    "        SeqDs([seqs_train[i] for i in tr_idx], y_full[tr_idx]),\n",
    "        batch_size=BATCH, shuffle=True,\n",
    "        collate_fn=collate_len, num_workers=0, pin_memory=True)\n",
    "\n",
    "    val_dl = DataLoader(\n",
    "        SeqDs([seqs_train[i] for i in val_idx], y_full[val_idx]),\n",
    "        batch_size=BATCH, shuffle=False,\n",
    "        collate_fn=collate_len, num_workers=0, pin_memory=True)\n",
    "\n",
    "    torch.cuda.empty_cache()\n",
    "    model = BiGRU4Pool(n_uniques, emb_dims, hidden=128).to(DEVICE)\n",
    "    opt   = torch.optim.AdamW(model.parameters(), lr=INIT_LR, weight_decay=1e-2)\n",
    "    scheduler = ReduceLROnPlateau(opt, mode='max',\n",
    "                                  factor=0.5, patience=1,\n",
    "                                  verbose=True, min_lr=1e-5)\n",
    "\n",
    "    BEST, WAIT = 0.0, 0\n",
    "    for ep in range(1, EPOCHS + 1):\n",
    "        run_epoch(train_dl, True,  ep, fold)\n",
    "        _, val_auc = run_epoch(val_dl, False, ep, fold)\n",
    "        scheduler.step(val_auc)\n",
    "        print(f\"F{fold} E{ep:02d} | val_auc={val_auc:.4f} | lr={opt.param_groups[0]['lr']:.2e}\")\n",
    "\n",
    "        if val_auc > BEST + 1e-4:\n",
    "            BEST, WAIT = val_auc, 0\n",
    "            torch.save(model.state_dict(), f\"best_fold{fold}.pt\")\n",
    "            print(\"new best saved\")\n",
    "        else:\n",
    "            WAIT += 1\n",
    "            if WAIT >= PATIENCE:\n",
    "                print(\"early-stop\"); break\n",
    "\n",
    "    model.load_state_dict(torch.load(f\"best_fold{fold}.pt\", map_location=DEVICE))\n",
    "    model.eval()\n",
    "    with torch.no_grad():\n",
    "        val_pred = torch.cat([\n",
    "            torch.sigmoid(model(xb.to(DEVICE), ln.to(DEVICE))).cpu()\n",
    "            for xb, ln, _ in val_dl]).numpy()\n",
    "    oof_pred[val_idx] = val_pred\n",
    "\n",
    "    with torch.no_grad():\n",
    "        test_pred = torch.cat([\n",
    "            torch.sigmoid(model(xb.to(DEVICE), ln.to(DEVICE))).cpu()\n",
    "            for xb, ln in test_dl]).numpy()\n",
    "    test_blend += test_pred / K_FOLDS\n",
    "\n",
    "    torch.save({\n",
    "        \"state_dict\": torch.load(f\"best_fold{fold}.pt\", map_location=\"cpu\"),\n",
    "        \"val_idx\"  : val_idx,\n",
    "        \"val_pred\" : val_pred.astype('float32'),\n",
    "        \"test_pred\": test_pred.astype('float32'),\n",
    "        \"config\"   : {\"emb_dims\": emb_dims,\n",
    "                      \"hidden\"  : 128,\n",
    "                      \"n_uniques\": n_uniques,\n",
    "                      \"fold\": fold}\n",
    "    }, f\"bigru4pool_fold{fold}.pth\")\n",
    "    print(f\"bigru4pool_fold{fold}.pth сохранён  (best val_auc {BEST:.4f})\")"
   ],
   "outputs": [
    {
     "name": "stdout",
     "output_type": "stream",
     "text": [
      "\n",
      "─ FOLD 1/5 | train 2400000 | val 600000 ─\n"
     ]
    },
    {
     "name": "stderr",
     "output_type": "stream",
     "text": [
      "C:\\Users\\idine\\PycharmProjects\\scientificProject\\.venv\\Lib\\site-packages\\torch\\optim\\lr_scheduler.py:62: UserWarning: The verbose parameter is deprecated. Please use get_last_lr() to access the learning rate.\n",
      "  warnings.warn(\n"
     ]
    },
    {
     "data": {
      "text/plain": [
       "F1 TRN E01:   0%|          | 0/4688 [00:00<?, ?it/s]"
      ],
      "application/vnd.jupyter.widget-view+json": {
       "version_major": 2,
       "version_minor": 0,
       "model_id": "45ba4eb3c8934c119cf77004ee896ac0"
      }
     },
     "metadata": {},
     "output_type": "display_data"
    },
    {
     "data": {
      "text/plain": [
       "F1 VAL E01:   0%|          | 0/1172 [00:00<?, ?it/s]"
      ],
      "application/vnd.jupyter.widget-view+json": {
       "version_major": 2,
       "version_minor": 0,
       "model_id": "615d235d3d1c481397b2229f109bb06d"
      }
     },
     "metadata": {},
     "output_type": "display_data"
    },
    {
     "name": "stdout",
     "output_type": "stream",
     "text": [
      "F1 E01 | val_auc=0.7732 | lr=1.00e-03\n",
      "   ✓ new best saved\n"
     ]
    },
    {
     "data": {
      "text/plain": [
       "F1 TRN E02:   0%|          | 0/4688 [00:00<?, ?it/s]"
      ],
      "application/vnd.jupyter.widget-view+json": {
       "version_major": 2,
       "version_minor": 0,
       "model_id": "47ea01d5d10f4bd6a9f140769417381c"
      }
     },
     "metadata": {},
     "output_type": "display_data"
    },
    {
     "data": {
      "text/plain": [
       "F1 VAL E02:   0%|          | 0/1172 [00:00<?, ?it/s]"
      ],
      "application/vnd.jupyter.widget-view+json": {
       "version_major": 2,
       "version_minor": 0,
       "model_id": "b04a585df26f4be8af8b3bc0bef1b228"
      }
     },
     "metadata": {},
     "output_type": "display_data"
    },
    {
     "name": "stdout",
     "output_type": "stream",
     "text": [
      "F1 E02 | val_auc=0.7798 | lr=1.00e-03\n",
      "   ✓ new best saved\n"
     ]
    },
    {
     "data": {
      "text/plain": [
       "F1 TRN E03:   0%|          | 0/4688 [00:00<?, ?it/s]"
      ],
      "application/vnd.jupyter.widget-view+json": {
       "version_major": 2,
       "version_minor": 0,
       "model_id": "aa0e4fba2b8740058d0419a06aa43e6d"
      }
     },
     "metadata": {},
     "output_type": "display_data"
    },
    {
     "data": {
      "text/plain": [
       "F1 VAL E03:   0%|          | 0/1172 [00:00<?, ?it/s]"
      ],
      "application/vnd.jupyter.widget-view+json": {
       "version_major": 2,
       "version_minor": 0,
       "model_id": "ff7bf244d7774b838f05cb8e0762d4a8"
      }
     },
     "metadata": {},
     "output_type": "display_data"
    },
    {
     "name": "stdout",
     "output_type": "stream",
     "text": [
      "F1 E03 | val_auc=0.7831 | lr=1.00e-03\n",
      "   ✓ new best saved\n"
     ]
    },
    {
     "data": {
      "text/plain": [
       "F1 TRN E04:   0%|          | 0/4688 [00:00<?, ?it/s]"
      ],
      "application/vnd.jupyter.widget-view+json": {
       "version_major": 2,
       "version_minor": 0,
       "model_id": "199923bd7abc4200b21388eb9416c196"
      }
     },
     "metadata": {},
     "output_type": "display_data"
    },
    {
     "data": {
      "text/plain": [
       "F1 VAL E04:   0%|          | 0/1172 [00:00<?, ?it/s]"
      ],
      "application/vnd.jupyter.widget-view+json": {
       "version_major": 2,
       "version_minor": 0,
       "model_id": "77a437c99cd04a3c9d3658e2ffe2a5a0"
      }
     },
     "metadata": {},
     "output_type": "display_data"
    },
    {
     "name": "stdout",
     "output_type": "stream",
     "text": [
      "F1 E04 | val_auc=0.7842 | lr=1.00e-03\n",
      "   ✓ new best saved\n"
     ]
    },
    {
     "data": {
      "text/plain": [
       "F1 TRN E05:   0%|          | 0/4688 [00:00<?, ?it/s]"
      ],
      "application/vnd.jupyter.widget-view+json": {
       "version_major": 2,
       "version_minor": 0,
       "model_id": "ecf4ea215da64e739cf8f42f95a65c54"
      }
     },
     "metadata": {},
     "output_type": "display_data"
    },
    {
     "data": {
      "text/plain": [
       "F1 VAL E05:   0%|          | 0/1172 [00:00<?, ?it/s]"
      ],
      "application/vnd.jupyter.widget-view+json": {
       "version_major": 2,
       "version_minor": 0,
       "model_id": "087d8bb52d24426b9f935be5754c6664"
      }
     },
     "metadata": {},
     "output_type": "display_data"
    },
    {
     "name": "stdout",
     "output_type": "stream",
     "text": [
      "F1 E05 | val_auc=0.7850 | lr=1.00e-03\n",
      "   ✓ new best saved\n"
     ]
    },
    {
     "data": {
      "text/plain": [
       "F1 TRN E06:   0%|          | 0/4688 [00:00<?, ?it/s]"
      ],
      "application/vnd.jupyter.widget-view+json": {
       "version_major": 2,
       "version_minor": 0,
       "model_id": "836a494445d6477ab3940ff83509e30a"
      }
     },
     "metadata": {},
     "output_type": "display_data"
    },
    {
     "data": {
      "text/plain": [
       "F1 VAL E06:   0%|          | 0/1172 [00:00<?, ?it/s]"
      ],
      "application/vnd.jupyter.widget-view+json": {
       "version_major": 2,
       "version_minor": 0,
       "model_id": "992fae2bd30a4fd294a45dcb05e21b89"
      }
     },
     "metadata": {},
     "output_type": "display_data"
    },
    {
     "name": "stdout",
     "output_type": "stream",
     "text": [
      "F1 E06 | val_auc=0.7847 | lr=1.00e-03\n"
     ]
    },
    {
     "data": {
      "text/plain": [
       "F1 TRN E07:   0%|          | 0/4688 [00:00<?, ?it/s]"
      ],
      "application/vnd.jupyter.widget-view+json": {
       "version_major": 2,
       "version_minor": 0,
       "model_id": "3ad259a5371149e887413e74de1b0d44"
      }
     },
     "metadata": {},
     "output_type": "display_data"
    },
    {
     "data": {
      "text/plain": [
       "F1 VAL E07:   0%|          | 0/1172 [00:00<?, ?it/s]"
      ],
      "application/vnd.jupyter.widget-view+json": {
       "version_major": 2,
       "version_minor": 0,
       "model_id": "6d86d6ff566f4e20b28b29a07698de8c"
      }
     },
     "metadata": {},
     "output_type": "display_data"
    },
    {
     "name": "stdout",
     "output_type": "stream",
     "text": [
      "F1 E07 | val_auc=0.7840 | lr=5.00e-04\n",
      "   early-stop\n",
      "✓ bigru4pool_fold1.pth сохранён  (best val_auc 0.7850)\n",
      "\n",
      "─ FOLD 2/5 | train 2400000 | val 600000 ─\n"
     ]
    },
    {
     "name": "stderr",
     "output_type": "stream",
     "text": [
      "C:\\Users\\idine\\PycharmProjects\\scientificProject\\.venv\\Lib\\site-packages\\torch\\optim\\lr_scheduler.py:62: UserWarning: The verbose parameter is deprecated. Please use get_last_lr() to access the learning rate.\n",
      "  warnings.warn(\n"
     ]
    },
    {
     "data": {
      "text/plain": [
       "F2 TRN E01:   0%|          | 0/4688 [00:00<?, ?it/s]"
      ],
      "application/vnd.jupyter.widget-view+json": {
       "version_major": 2,
       "version_minor": 0,
       "model_id": "7cbcac0ea5f4456288fdcea3db12a1fb"
      }
     },
     "metadata": {},
     "output_type": "display_data"
    },
    {
     "data": {
      "text/plain": [
       "F2 VAL E01:   0%|          | 0/1172 [00:00<?, ?it/s]"
      ],
      "application/vnd.jupyter.widget-view+json": {
       "version_major": 2,
       "version_minor": 0,
       "model_id": "6edf05f3d5df4af8ab8779592596a48b"
      }
     },
     "metadata": {},
     "output_type": "display_data"
    },
    {
     "name": "stdout",
     "output_type": "stream",
     "text": [
      "F2 E01 | val_auc=0.7751 | lr=1.00e-03\n",
      "   ✓ new best saved\n"
     ]
    },
    {
     "data": {
      "text/plain": [
       "F2 TRN E02:   0%|          | 0/4688 [00:00<?, ?it/s]"
      ],
      "application/vnd.jupyter.widget-view+json": {
       "version_major": 2,
       "version_minor": 0,
       "model_id": "c43961e0722144c8a5e77fe5687404f7"
      }
     },
     "metadata": {},
     "output_type": "display_data"
    },
    {
     "data": {
      "text/plain": [
       "F2 VAL E02:   0%|          | 0/1172 [00:00<?, ?it/s]"
      ],
      "application/vnd.jupyter.widget-view+json": {
       "version_major": 2,
       "version_minor": 0,
       "model_id": "374404ee11b44f2e989860403d91674f"
      }
     },
     "metadata": {},
     "output_type": "display_data"
    },
    {
     "name": "stdout",
     "output_type": "stream",
     "text": [
      "F2 E02 | val_auc=0.7791 | lr=1.00e-03\n",
      "   ✓ new best saved\n"
     ]
    },
    {
     "data": {
      "text/plain": [
       "F2 TRN E03:   0%|          | 0/4688 [00:00<?, ?it/s]"
      ],
      "application/vnd.jupyter.widget-view+json": {
       "version_major": 2,
       "version_minor": 0,
       "model_id": "87ba61ffc6324c8d98c8797f292892f1"
      }
     },
     "metadata": {},
     "output_type": "display_data"
    },
    {
     "data": {
      "text/plain": [
       "F2 VAL E03:   0%|          | 0/1172 [00:00<?, ?it/s]"
      ],
      "application/vnd.jupyter.widget-view+json": {
       "version_major": 2,
       "version_minor": 0,
       "model_id": "e8415a068eee4395b573ad7040701741"
      }
     },
     "metadata": {},
     "output_type": "display_data"
    },
    {
     "name": "stdout",
     "output_type": "stream",
     "text": [
      "F2 E03 | val_auc=0.7833 | lr=1.00e-03\n",
      "   ✓ new best saved\n"
     ]
    },
    {
     "data": {
      "text/plain": [
       "F2 TRN E04:   0%|          | 0/4688 [00:00<?, ?it/s]"
      ],
      "application/vnd.jupyter.widget-view+json": {
       "version_major": 2,
       "version_minor": 0,
       "model_id": "7645384542a940129cebe8936d290beb"
      }
     },
     "metadata": {},
     "output_type": "display_data"
    },
    {
     "data": {
      "text/plain": [
       "F2 VAL E04:   0%|          | 0/1172 [00:00<?, ?it/s]"
      ],
      "application/vnd.jupyter.widget-view+json": {
       "version_major": 2,
       "version_minor": 0,
       "model_id": "425d2b2e8a6f404ca9c6dae92988039a"
      }
     },
     "metadata": {},
     "output_type": "display_data"
    },
    {
     "name": "stdout",
     "output_type": "stream",
     "text": [
      "F2 E04 | val_auc=0.7838 | lr=1.00e-03\n",
      "   ✓ new best saved\n"
     ]
    },
    {
     "data": {
      "text/plain": [
       "F2 TRN E05:   0%|          | 0/4688 [00:00<?, ?it/s]"
      ],
      "application/vnd.jupyter.widget-view+json": {
       "version_major": 2,
       "version_minor": 0,
       "model_id": "81b3ef5422a8448592403a01dcfdc471"
      }
     },
     "metadata": {},
     "output_type": "display_data"
    },
    {
     "data": {
      "text/plain": [
       "F2 VAL E05:   0%|          | 0/1172 [00:00<?, ?it/s]"
      ],
      "application/vnd.jupyter.widget-view+json": {
       "version_major": 2,
       "version_minor": 0,
       "model_id": "9aae8fb1c48f4ea89a5c35de99b0567d"
      }
     },
     "metadata": {},
     "output_type": "display_data"
    },
    {
     "name": "stdout",
     "output_type": "stream",
     "text": [
      "F2 E05 | val_auc=0.7837 | lr=1.00e-03\n"
     ]
    },
    {
     "data": {
      "text/plain": [
       "F2 TRN E06:   0%|          | 0/4688 [00:00<?, ?it/s]"
      ],
      "application/vnd.jupyter.widget-view+json": {
       "version_major": 2,
       "version_minor": 0,
       "model_id": "bd7cc7b721ba4491b091b39a27759403"
      }
     },
     "metadata": {},
     "output_type": "display_data"
    },
    {
     "data": {
      "text/plain": [
       "F2 VAL E06:   0%|          | 0/1172 [00:00<?, ?it/s]"
      ],
      "application/vnd.jupyter.widget-view+json": {
       "version_major": 2,
       "version_minor": 0,
       "model_id": "1d20bc4d5d28426e9b84b5624b4cbc79"
      }
     },
     "metadata": {},
     "output_type": "display_data"
    }
   ],
   "execution_count": 15
  },
  {
   "metadata": {},
   "cell_type": "code",
   "source": [
    "# 9.  Итоговый OOF-AUC  +  submission\n",
    "\n",
    "full_auc = roc_auc_score(y_full, oof_pred)\n",
    "print(f\"\\nFULL OOF ROC-AUC = {full_auc:.5f}\")\n",
    "\n",
    "sample = pd.read_csv(os.path.join(DATA_DIR, \"sample_submission.csv\"))\n",
    "sample[\"target\"] = (\n",
    "    pd.Series(test_blend, index=ids_test)\n",
    "      .reindex(sample[\"id\"])\n",
    "      .values.astype('float32')\n",
    ")\n",
    "sample.to_csv(\"submission_bigru4pool_kfold.csv\", index=False)\n",
    "print(\"submission_bigru4pool_kfold.csv готов:\", sample.shape)"
   ],
   "id": "776f0ba0e1c61ed5",
   "outputs": [],
   "execution_count": 16
  },
  {
   "cell_type": "code",
   "execution_count": null,
   "id": "a6ee5599",
   "metadata": {},
   "outputs": [],
   "source": []
  }
 ],
 "metadata": {
  "kernelspec": {
   "display_name": "Python 3 (ipykernel)",
   "language": "python",
   "name": "python3"
  },
  "language_info": {
   "codemirror_mode": {
    "name": "ipython",
    "version": 3
   },
   "file_extension": ".py",
   "mimetype": "text/x-python",
   "name": "python",
   "nbconvert_exporter": "python",
   "pygments_lexer": "ipython3",
   "version": "3.11.2"
  }
 },
 "nbformat": 4,
 "nbformat_minor": 5
}
