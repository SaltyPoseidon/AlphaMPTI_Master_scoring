{
 "cells": [
  {
   "cell_type": "code",
   "id": "initial_id",
   "metadata": {
    "collapsed": true,
    "ExecuteTime": {
     "end_time": "2025-06-05T11:45:24.513606Z",
     "start_time": "2025-06-05T11:45:22.280300Z"
    }
   },
   "source": [
    "import os, glob, joblib, torch, warnings, gc\n",
    "import numpy as np, pandas as pd\n",
    "from pathlib import Path\n",
    "from sklearn.metrics import roc_auc_score\n",
    "from sklearn.model_selection import StratifiedKFold\n",
    "import lightgbm as lgb\n",
    "from tqdm.auto import tqdm\n",
    "\n",
    "ROOT        = Path('.')\n",
    "DATA_DIR    = ROOT / 'data'\n",
    "SUB_NAME    = 'submission_meta_blend_3.csv'\n",
    "N_FOLDS     = 5"
   ],
   "outputs": [],
   "execution_count": 1
  },
  {
   "metadata": {
    "ExecuteTime": {
     "end_time": "2025-06-05T11:45:24.920546Z",
     "start_time": "2025-06-05T11:45:24.560495Z"
    }
   },
   "cell_type": "code",
   "source": [
    "# 1. Читаем таргет и fold_indices\n",
    "\n",
    "train_target = pd.read_csv(DATA_DIR / 'train_target.csv')\n",
    "y            = train_target.set_index('id')['target'].astype('int8').values\n",
    "\n",
    "fold_file = ROOT / 'fold_indices.npy'\n",
    "assert fold_file.exists(), 'fold_indices.npy не найден'\n",
    "fold_indices = np.load(fold_file, allow_pickle=True)\n",
    "assert len(fold_indices) == N_FOLDS, 'Количество фолдов в split-файле ≠ N_FOLDS'"
   ],
   "id": "9b95adf371ad4973",
   "outputs": [],
   "execution_count": 2
  },
  {
   "metadata": {
    "ExecuteTime": {
     "end_time": "2025-06-05T11:45:24.930411Z",
     "start_time": "2025-06-05T11:45:24.925551Z"
    }
   },
   "cell_type": "code",
   "source": [
    "import pickle\n",
    "\n",
    "# 2. Собираем все *.pth и *.pkl\n",
    "\n",
    "def load_ckpt(path):\n",
    "    \"\"\"Читает .pkl (joblib) или .pth (torch.load).\"\"\"\n",
    "    if path.suffix == '.pkl':\n",
    "        return joblib.load(path)\n",
    "\n",
    "    try:\n",
    "        return torch.load(path, map_location='cpu')          # weights_only=True (default)\n",
    "    except pickle.UnpicklingError:\n",
    "        return torch.load(path, map_location='cpu', weights_only=False)\n",
    "\n",
    "files = []\n",
    "# LightGBM\n",
    "files += glob.glob(str(ROOT / 'models_lgb' / 'lgb_fold*.pkl'))\n",
    "# RNN-base (gru_fold*.pth)\n",
    "files += glob.glob(str(ROOT / 'RNN-base' / 'gru_fold*.pth'))\n",
    "# BiGRU4Pool (bigru4pool_fold*.pth)\n",
    "files += glob.glob(str(ROOT / 'BiGru4' / 'bigru4pool_fold*.pth'))\n",
    "\n",
    "files = sorted(map(Path, files))\n",
    "assert files, 'Не нашёл ни одного файла с предсказаниями!'\n",
    "\n",
    "print(f'Найдено моделей для бленда: {len(files)}')"
   ],
   "id": "f8ab0963f59fc6db",
   "outputs": [
    {
     "name": "stdout",
     "output_type": "stream",
     "text": [
      "Найдено моделей для бленда: 15\n"
     ]
    }
   ],
   "execution_count": 3
  },
  {
   "metadata": {
    "ExecuteTime": {
     "end_time": "2025-06-05T11:45:44.700510Z",
     "start_time": "2025-06-05T11:45:44.120010Z"
    }
   },
   "cell_type": "code",
   "source": [
    "# 3. Агрегируем фолдыс - один столбец на модель\n",
    "\n",
    "import re, numpy as np\n",
    "from collections import defaultdict\n",
    "\n",
    "pat_fold = re.compile(r'_fold\\d+\\.(pth|pkl)$')\n",
    "models = defaultdict(list)\n",
    "for p in files:\n",
    "    key = pat_fold.sub('', p.name)\n",
    "    models[key].append(p)\n",
    "\n",
    "print('Моделей:', list(models.keys()))\n",
    "\n",
    "first = load_ckpt(models[next(iter(models))][0])\n",
    "n_test = len(first['test_pred'])\n",
    "oof_mat  = np.zeros((len(y), len(models)), dtype='float32')\n",
    "test_mat = np.zeros((n_test,  len(models)), dtype='float32')\n",
    "\n",
    "def load(path: Path):\n",
    "    return (joblib.load(path) if path.suffix=='.pkl'\n",
    "            else torch.load(path, map_location='cpu', weights_only=False))\n",
    "\n",
    "for col, (m_name, paths) in enumerate(models.items()):\n",
    "    print(f'{m_name}: {len(paths)} фолдов')\n",
    "    acc_test = np.zeros(n_test, dtype='float32')\n",
    "    for ckpt_path in paths:\n",
    "        ckpt = load(ckpt_path)\n",
    "        oof_mat[ckpt[\"val_idx\"], col] = ckpt[\"val_pred\"]\n",
    "        acc_test += ckpt[\"test_pred\"] / len(paths)\n",
    "    test_mat[:, col] = acc_test\n",
    "\n",
    "print(\"oof_mat:\", oof_mat.shape, \"| test_mat:\", test_mat.shape)"
   ],
   "id": "9ace1c766e3fc3fc",
   "outputs": [
    {
     "name": "stdout",
     "output_type": "stream",
     "text": [
      "Моделей: ['bigru4pool', 'lgb', 'gru']\n",
      "bigru4pool: 5 фолдов\n",
      "lgb: 5 фолдов\n",
      "gru: 5 фолдов\n",
      "oof_mat: (3000000, 3) | test_mat: (500000, 3)\n"
     ]
    }
   ],
   "execution_count": 4
  },
  {
   "metadata": {
    "ExecuteTime": {
     "end_time": "2025-06-05T11:25:10.173795Z",
     "start_time": "2025-06-05T11:25:10.168360Z"
    }
   },
   "cell_type": "code",
   "source": "oof_mat",
   "id": "364e58a326870280",
   "outputs": [
    {
     "data": {
      "text/plain": [
       "array([[0.00767943, 0.24500681, 0.00810673],\n",
       "       [0.08218422, 0.39394644, 0.0787522 ],\n",
       "       [0.11407842, 0.57732713, 0.11190356],\n",
       "       ...,\n",
       "       [0.00672244, 0.4125769 , 0.00569409],\n",
       "       [0.13254805, 0.72198755, 0.09740859],\n",
       "       [0.10145935, 0.29503438, 0.12420425]], dtype=float32)"
      ]
     },
     "execution_count": 5,
     "metadata": {},
     "output_type": "execute_result"
    }
   ],
   "execution_count": 5
  },
  {
   "metadata": {
    "ExecuteTime": {
     "end_time": "2025-06-05T11:25:12.377932Z",
     "start_time": "2025-06-05T11:25:10.271951Z"
    }
   },
   "cell_type": "code",
   "source": [
    "# 4.  Быстрый sanity-check: одиночные модели\n",
    "\n",
    "for i, name in enumerate(models.keys()):\n",
    "    auc = roc_auc_score(y, oof_mat[:, i])\n",
    "    print(f'{name:12s}  OOF ROC-AUC = {auc:.5f}')"
   ],
   "id": "2ebce143e57998d4",
   "outputs": [
    {
     "name": "stdout",
     "output_type": "stream",
     "text": [
      "bigru4pool    OOF ROC-AUC = 0.78323\n",
      "lgb           OOF ROC-AUC = 0.75598\n",
      "gru           OOF ROC-AUC = 0.78134\n"
     ]
    }
   ],
   "execution_count": 6
  },
  {
   "metadata": {
    "ExecuteTime": {
     "end_time": "2025-06-05T11:25:29.011089Z",
     "start_time": "2025-06-05T11:25:12.400504Z"
    }
   },
   "cell_type": "code",
   "source": [
    "# 5.  META-модель: логистическая регрессия\n",
    "\n",
    "from sklearn.linear_model import LogisticRegression\n",
    "\n",
    "meta_oof   = np.zeros(len(y),    dtype='float32')\n",
    "meta_test  = np.zeros(test_mat.shape[0], dtype='float32')\n",
    "\n",
    "skf_meta = StratifiedKFold(n_splits=N_FOLDS, shuffle=True, random_state=101)\n",
    "for tr, vl in skf_meta.split(oof_mat, y):\n",
    "    clf = LogisticRegression(max_iter=1000, n_jobs=-1, solver='lbfgs')\n",
    "    clf.fit(oof_mat[tr], y[tr])\n",
    "\n",
    "    meta_oof[vl]  = clf.predict_proba(oof_mat[vl])[:, 1]\n",
    "    meta_test    += clf.predict_proba(test_mat)[:, 1] / N_FOLDS\n",
    "\n",
    "meta_auc  = roc_auc_score(y, meta_oof)\n",
    "gini      = (meta_auc - 0.5) * 2\n",
    "print(f'\\nMETA-model OOF ROC-AUC = {meta_auc:.5f}  |  Gini ≈ {gini*100:.2f}')"
   ],
   "id": "fea4ff6d8ea774d1",
   "outputs": [
    {
     "name": "stdout",
     "output_type": "stream",
     "text": [
      "\n",
      "META-model OOF ROC-AUC = 0.77380  |  Gini ≈ 54.76\n"
     ]
    }
   ],
   "execution_count": 7
  },
  {
   "metadata": {},
   "cell_type": "code",
   "source": [
    "# 6.  Подготовка id теста и финальный сабмит\n",
    "\n",
    "if 'ids_test' in first:\n",
    "    ids_test = first['ids_test']\n",
    "else:\n",
    "    test_parts = []\n",
    "    for p in sorted((DATA_DIR / 'test_data').glob('test_data_*.pq')):\n",
    "        test_parts.append(pd.read_parquet(p, columns=['id']))\n",
    "    ids_test = pd.concat(test_parts, ignore_index=True)['id'].unique()\n",
    "\n",
    "meta_test_ser = pd.Series(meta_test, index=ids_test)\n",
    "\n",
    "sample = pd.read_csv(DATA_DIR / 'sample_submission.csv')\n",
    "sample['target'] = meta_test_ser.reindex(sample['id']).values.astype('float32')\n",
    "\n",
    "sample.to_csv(SUB_NAME, index=False)\n",
    "print('submission saved', SUB_NAME, sample.shape)"
   ],
   "id": "c1f65814f6d5db5a",
   "outputs": [],
   "execution_count": null
  },
  {
   "metadata": {
    "ExecuteTime": {
     "end_time": "2025-06-05T11:27:40.686885Z",
     "start_time": "2025-06-05T11:25:29.729792Z"
    }
   },
   "cell_type": "code",
   "source": [
    "# 4.  Meta-LightGBM c новым StratifiedKFold\n",
    "\n",
    "from sklearn.model_selection import StratifiedKFold\n",
    "import lightgbm as lgb\n",
    "from tqdm.auto import tqdm\n",
    "import gc, numpy as np\n",
    "from sklearn.metrics import roc_auc_score\n",
    "\n",
    "scale_pos_weight = (y == 0).sum() / (y == 1).sum()\n",
    "print(f'scale_pos_weight = {scale_pos_weight:.1f}')\n",
    "\n",
    "LGB_META = {\n",
    "    'objective'        : 'binary',\n",
    "    'metric'           : 'auc',\n",
    "    'learning_rate'    : 0.03,\n",
    "    'num_leaves'       : 64,\n",
    "    'feature_fraction' : 1.0,\n",
    "    'bagging_fraction' : 1.0,\n",
    "    'bagging_freq'     : 0,\n",
    "    'max_depth'        : -1,\n",
    "    'device_type'      : 'gpu',\n",
    "    'scale_pos_weight' : scale_pos_weight,\n",
    "    'seed'             : 42,\n",
    "    'verbose'          : -1,\n",
    "}\n",
    "\n",
    "N_FOLDS    = 5\n",
    "NUM_ROUNDS = 5_000\n",
    "EARLY_STOP = 300\n",
    "\n",
    "meta_oof  = np.zeros(len(y),           dtype='float32')\n",
    "meta_test = np.zeros(test_mat.shape[0], dtype='float32')\n",
    "\n",
    "skf_meta = StratifiedKFold(n_splits=N_FOLDS, shuffle=True, random_state=42)\n",
    "\n",
    "\n",
    "for fold, (tr_idx, val_idx) in enumerate(skf_meta.split(oof_mat, y), 1):\n",
    "\n",
    "    dtrain = lgb.Dataset(oof_mat[tr_idx], y[tr_idx])\n",
    "    dvalid = lgb.Dataset(oof_mat[val_idx], y[val_idx])\n",
    "\n",
    "    pbar = tqdm(total=NUM_ROUNDS, desc=f'Fold{fold}', leave=False)\n",
    "\n",
    "    def _cb(env):\n",
    "        pbar.update(env.iteration - pbar.n)\n",
    "        if env.evaluation_result_list:\n",
    "            _, _, auc, _ = env.evaluation_result_list[0]\n",
    "            pbar.set_postfix({'auc': f'{auc:.4f}'}, refresh=False)\n",
    "        if env.iteration + 1 == env.end_iteration: pbar.close()\n",
    "\n",
    "    booster = lgb.train(\n",
    "        LGB_META,\n",
    "        dtrain,\n",
    "        num_boost_round=NUM_ROUNDS,\n",
    "        valid_sets=[dvalid],\n",
    "        valid_names=['val'],\n",
    "        callbacks=[\n",
    "            lgb.early_stopping(EARLY_STOP, first_metric_only=True, verbose=False),\n",
    "            _cb\n",
    "        ]\n",
    "    )\n",
    "\n",
    "    meta_oof[val_idx] = booster.predict(oof_mat[val_idx],\n",
    "                                        num_iteration=booster.best_iteration)\n",
    "\n",
    "    meta_test += booster.predict(test_mat,\n",
    "                                 num_iteration=booster.best_iteration) / N_FOLDS\n",
    "    del booster, dtrain, dvalid\n",
    "    gc.collect()\n",
    "\n",
    "meta_auc  = roc_auc_score(y, meta_oof)\n",
    "meta_gini = (meta_auc - 0.5) * 2\n",
    "print(f'\\nMETA-LightGBM OOF ROC-AUC = {meta_auc:.5f}  |  Gini ≈ {meta_gini*100:.2f}')"
   ],
   "id": "16d98961c1011a30",
   "outputs": [
    {
     "name": "stdout",
     "output_type": "stream",
     "text": [
      "scale_pos_weight = 27.2\n"
     ]
    },
    {
     "data": {
      "text/plain": [
       "Fold1:   0%|          | 0/5000 [00:00<?, ?it/s]"
      ],
      "application/vnd.jupyter.widget-view+json": {
       "version_major": 2,
       "version_minor": 0,
       "model_id": "3a60fbf63f054b239f0cdfd4be676442"
      }
     },
     "metadata": {},
     "output_type": "display_data"
    },
    {
     "data": {
      "text/plain": [
       "Fold2:   0%|          | 0/5000 [00:00<?, ?it/s]"
      ],
      "application/vnd.jupyter.widget-view+json": {
       "version_major": 2,
       "version_minor": 0,
       "model_id": "7bd4dc8f90b24afea344c34c636a5af5"
      }
     },
     "metadata": {},
     "output_type": "display_data"
    },
    {
     "data": {
      "text/plain": [
       "Fold3:   0%|          | 0/5000 [00:00<?, ?it/s]"
      ],
      "application/vnd.jupyter.widget-view+json": {
       "version_major": 2,
       "version_minor": 0,
       "model_id": "15f18eda97cb496b91c9fdb46bad52a9"
      }
     },
     "metadata": {},
     "output_type": "display_data"
    },
    {
     "data": {
      "text/plain": [
       "Fold4:   0%|          | 0/5000 [00:00<?, ?it/s]"
      ],
      "application/vnd.jupyter.widget-view+json": {
       "version_major": 2,
       "version_minor": 0,
       "model_id": "ff96b2ad8b3f4b34a591d5a4ebd9c20f"
      }
     },
     "metadata": {},
     "output_type": "display_data"
    },
    {
     "data": {
      "text/plain": [
       "Fold5:   0%|          | 0/5000 [00:00<?, ?it/s]"
      ],
      "application/vnd.jupyter.widget-view+json": {
       "version_major": 2,
       "version_minor": 0,
       "model_id": "367c681734964ea6b633233d227654e9"
      }
     },
     "metadata": {},
     "output_type": "display_data"
    },
    {
     "name": "stdout",
     "output_type": "stream",
     "text": [
      "\n",
      "META-LightGBM OOF ROC-AUC = 0.76198  |  Gini ≈ 52.40\n"
     ]
    }
   ],
   "execution_count": 9
  },
  {
   "metadata": {},
   "cell_type": "code",
   "source": [
    "# 5.  Сабмит\n",
    "\n",
    "sample = pd.read_csv(DATA_DIR / 'sample_submission.csv')\n",
    "\n",
    "if 'ids_test' in first:\n",
    "    ids_test = first['ids_test']\n",
    "else:\n",
    "    test_ids_df = pd.concat(\n",
    "        [pd.read_parquet(f, columns=['id'])\n",
    "         for f in sorted((DATA_DIR / 'test_data').glob('test_data_*.pq'))],\n",
    "        ignore_index=True)\n",
    "    ids_test = test_ids_df['id'].unique()\n",
    "\n",
    "sample['target'] = (\n",
    "    pd.Series(meta_test, index=ids_test)\n",
    "      .reindex(sample['id'])\n",
    "      .values.astype('float32')\n",
    ")\n",
    "\n",
    "sample.to_csv(SUB_NAME, index=False)\n",
    "print('submission saved', SUB_NAME, sample.shape)"
   ],
   "id": "1bf0ad7eed002a2c",
   "outputs": [],
   "execution_count": null
  },
  {
   "metadata": {},
   "cell_type": "code",
   "outputs": [],
   "execution_count": null,
   "source": "",
   "id": "dfd04be494fe1616"
  }
 ],
 "metadata": {
  "kernelspec": {
   "display_name": "Python 3",
   "language": "python",
   "name": "python3"
  },
  "language_info": {
   "codemirror_mode": {
    "name": "ipython",
    "version": 2
   },
   "file_extension": ".py",
   "mimetype": "text/x-python",
   "name": "python",
   "nbconvert_exporter": "python",
   "pygments_lexer": "ipython2",
   "version": "2.7.6"
  }
 },
 "nbformat": 4,
 "nbformat_minor": 5
}
