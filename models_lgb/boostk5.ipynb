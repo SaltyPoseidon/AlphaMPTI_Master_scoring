{
 "cells": [
  {
   "metadata": {
    "ExecuteTime": {
     "end_time": "2025-05-27T20:41:34.164172Z",
     "start_time": "2025-05-27T20:39:59.547452Z"
    }
   },
   "cell_type": "code",
   "source": [
    "import glob\n",
    "import os\n",
    "import pandas as pd\n",
    "import pyarrow\n",
    "\n",
    "# 1. Пути к данным (относительно корня проекта)\n",
    "\n",
    "DATA_DIR = r'../../data'\n",
    "TRAIN_DIR = os.path.join(DATA_DIR, 'train_data')\n",
    "TEST_DIR  = os.path.join(DATA_DIR, 'test_data')\n",
    "\n",
    "TRAIN_PATTERN = os.path.join(TRAIN_DIR, 'train_data_*.pq')\n",
    "TEST_PATTERN  = os.path.join(TEST_DIR,  'test_data_*.pq')\n",
    "\n",
    "# 2. Загрузка train-части\n",
    "\n",
    "train_parts = []\n",
    "for p in sorted(glob.glob(TRAIN_PATTERN)):\n",
    "    df = pd.read_parquet(p)\n",
    "    train_parts.append(df)\n",
    "    print(f'{os.path.basename(p):<18} shape={df.shape}')\n",
    "\n",
    "train = pd.concat(train_parts, ignore_index=True)\n",
    "print(f'\\nFULL TRAIN shape = {train.shape}')\n",
    "\n",
    "target = pd.read_csv(os.path.join(DATA_DIR, 'train_target.csv'))\n",
    "train = train.merge(target, on='id', how='left')\n",
    "print('После merge с target:', train.shape)\n",
    "\n",
    "# 3. Загрузка test-части\n",
    "\n",
    "test_parts = []\n",
    "for p in sorted(glob.glob(TEST_PATTERN)):\n",
    "    df = pd.read_parquet(p)\n",
    "    test_parts.append(df)\n",
    "    print(f'{os.path.basename(p):<18} shape={df.shape}')\n",
    "\n",
    "test = pd.concat(test_parts, ignore_index=True)\n",
    "print(f'\\nFULL TEST shape  = {test.shape}')\n",
    "# ▸ сохраним id теста, прежде чем удалить DataFrame\n",
    "test_id = test['id'].values\n",
    "\n",
    "# 4. Быстрый sanity-check\n",
    "\n",
    "print('\\nTrain columns:', len(train.columns))\n",
    "print('Test  columns:', len(test.columns))\n",
    "print('\\nПропуски (train):')\n",
    "print(train.isna().mean().sort_values(ascending=False).head(10))\n"
   ],
   "id": "c91e2075f5b553d3",
   "outputs": [
    {
     "name": "stdout",
     "output_type": "stream",
     "text": [
      "train_data_0.pq    shape=(1974724, 59)\n",
      "train_data_1.pq    shape=(2107305, 59)\n",
      "train_data_10.pq   shape=(2296372, 59)\n",
      "train_data_11.pq   shape=(2450630, 59)\n",
      "train_data_2.pq    shape=(2080508, 59)\n",
      "train_data_3.pq    shape=(2112592, 59)\n",
      "train_data_4.pq    shape=(2064110, 59)\n",
      "train_data_5.pq    shape=(2150908, 59)\n",
      "train_data_6.pq    shape=(2176452, 59)\n",
      "train_data_7.pq    shape=(2222245, 59)\n",
      "train_data_8.pq    shape=(2242615, 59)\n",
      "train_data_9.pq    shape=(2284256, 59)\n",
      "\n",
      "FULL TRAIN shape = (26162717, 59)\n",
      "После merge с target: (26162717, 60)\n",
      "test_data_0.pq     shape=(2389773, 59)\n",
      "test_data_1.pq     shape=(2334828, 59)\n",
      "\n",
      "FULL TEST shape  = (4724601, 59)\n",
      "\n",
      "Train columns: 60\n",
      "Test  columns: 59\n",
      "\n",
      "Пропуски (train):\n",
      "id            0.0\n",
      "rn            0.0\n",
      "enc_col_30    0.0\n",
      "enc_col_31    0.0\n",
      "enc_col_32    0.0\n",
      "enc_col_33    0.0\n",
      "enc_col_34    0.0\n",
      "enc_col_35    0.0\n",
      "enc_col_36    0.0\n",
      "enc_col_37    0.0\n",
      "dtype: float64\n"
     ]
    }
   ],
   "execution_count": 1
  },
  {
   "metadata": {
    "ExecuteTime": {
     "end_time": "2025-05-27T20:43:45.385919Z",
     "start_time": "2025-05-27T20:41:46.538544Z"
    }
   },
   "cell_type": "code",
   "source": [
    "# 5.  Агрегация последовательностей → одна строка на id\n",
    "\n",
    "import numpy as np, gc\n",
    "from pathlib import Path\n",
    "\n",
    "enc_cols = [c for c in train.columns if c.startswith('enc_col_')]\n",
    "\n",
    "train = train.sort_values(['id', 'rn'])\n",
    "test  = test.sort_values(['id', 'rn'])\n",
    "\n",
    "agg = {c: ['mean', 'std', 'min', 'max', 'last'] for c in enc_cols}\n",
    "agg['rn'] = ['count']\n",
    "\n",
    "def collapse(df, name='train'):\n",
    "    out = (\n",
    "        df.groupby('id', sort=False)\n",
    "          .agg(agg)\n",
    "    )\n",
    "    out.columns = ['_'.join(x) for x in out.columns]\n",
    "    out = out.reset_index()\n",
    "    print(f'{name} collapsed:', out.shape)\n",
    "    return out\n",
    "\n",
    "train_c = collapse(train, 'train')\n",
    "test_c  = collapse(test,  'test')\n",
    "\n",
    "train_c = train_c.merge(target[['id', 'target']], on='id')\n",
    "print('train_c with target:', train_c.shape)"
   ],
   "id": "eb37c98e62a70e98",
   "outputs": [
    {
     "name": "stdout",
     "output_type": "stream",
     "text": [
      "train collapsed: (3000000, 287)\n",
      "test collapsed: (500000, 287)\n",
      "train_c with target: (3000000, 288)\n"
     ]
    }
   ],
   "execution_count": 2
  },
  {
   "metadata": {
    "ExecuteTime": {
     "end_time": "2025-05-27T20:46:29.811334Z",
     "start_time": "2025-05-27T20:44:10.098629Z"
    }
   },
   "cell_type": "code",
   "source": [
    "# 6.  Подготовка матриц признаков\n",
    "\n",
    "FEATS = [c for c in train_c.columns if c not in ('id', 'target')]\n",
    "\n",
    "med = train_c[FEATS].median().astype('float32')\n",
    "\n",
    "def prepare(df):\n",
    "    return (df[FEATS]\n",
    "              .fillna(med)\n",
    "              .astype('float32')\n",
    "              .to_numpy())\n",
    "\n",
    "X   = prepare(train_c)\n",
    "y   = train_c['target'].astype('int8').to_numpy()\n",
    "Xte = prepare(test_c)\n",
    "\n",
    "test_ids = test_c['id'].values\n",
    "\n",
    "del train_c, test_c; gc.collect()"
   ],
   "id": "c92c4c27125efce0",
   "outputs": [
    {
     "data": {
      "text/plain": [
       "5"
      ]
     },
     "execution_count": 3,
     "metadata": {},
     "output_type": "execute_result"
    }
   ],
   "execution_count": 3
  },
  {
   "metadata": {},
   "cell_type": "code",
   "source": [
    "# 7.  K-fold split\n",
    "\n",
    "from sklearn.model_selection import StratifiedKFold\n",
    "\n",
    "FOLD_FILE = Path('../fold_indices.npy')\n",
    "N_FOLDS   = 5\n",
    "\n",
    "if FOLD_FILE.exists():\n",
    "    fold_indices = np.load(FOLD_FILE, allow_pickle=True)\n",
    "    assert len(fold_indices) == N_FOLDS, \"n_folds mismatch\"\n",
    "    print('fold_indices.npy загружен')\n",
    "else:\n",
    "    skf = StratifiedKFold(n_splits=N_FOLDS, shuffle=True, random_state=42)\n",
    "    fold_indices = [val_idx for _, val_idx in skf.split(X, y)]\n",
    "    np.save(FOLD_FILE, np.array(fold_indices, dtype=object))\n",
    "    print('fold_indices.npy сохранён')"
   ],
   "id": "17d669ac806fa209",
   "outputs": [],
   "execution_count": null
  },
  {
   "metadata": {
    "ExecuteTime": {
     "end_time": "2025-05-27T20:47:35.850341Z",
     "start_time": "2025-05-27T20:47:35.582705Z"
    }
   },
   "cell_type": "code",
   "source": [
    "# 8.  LightGBM  +  K-fold OOF / test-blend\n",
    "\n",
    "import lightgbm as lgb\n",
    "from tqdm.auto import tqdm\n",
    "from sklearn.metrics import roc_auc_score\n",
    "import joblib\n",
    "\n",
    "pos_weight = (y == 0).sum() / (y == 1).sum()\n",
    "\n",
    "PARAMS = {\n",
    "    'objective'      : 'binary',\n",
    "    'metric'         : 'auc',\n",
    "    'learning_rate'  : 0.03,\n",
    "    'num_leaves'     : 256,\n",
    "    'max_depth'      : -1,\n",
    "    'min_data_in_leaf': 50,\n",
    "    'feature_fraction': 0.8,\n",
    "    'bagging_fraction': 0.8,\n",
    "    'bagging_freq'   : 1,\n",
    "    'scale_pos_weight': pos_weight,\n",
    "    'verbose'        : -1,\n",
    "    'seed'           : 42\n",
    "}\n",
    "NUM_ROUND     = 6000\n",
    "EARLY_STOP    = 400\n",
    "MODEL_DIR     = Path('')\n",
    "MODEL_DIR.mkdir(exist_ok=True)\n",
    "\n",
    "oof_pred   = np.zeros_like(y, dtype='float32')\n",
    "test_blend = np.zeros((len(test_ids), N_FOLDS), dtype='float32')"
   ],
   "id": "8906e556a5c615a8",
   "outputs": [],
   "execution_count": 5
  },
  {
   "metadata": {
    "ExecuteTime": {
     "end_time": "2025-05-27T21:09:12.807675Z",
     "start_time": "2025-05-27T20:48:01.580183Z"
    }
   },
   "cell_type": "code",
   "source": [
    "for fold, val_idx in enumerate(fold_indices, 1):\n",
    "    tr_idx = np.setdiff1d(np.arange(len(y)), val_idx)\n",
    "    print(f'\\n─── FOLD {fold}/{N_FOLDS} | train {len(tr_idx):,} | val {len(val_idx):,} ───')\n",
    "\n",
    "    dtrain = lgb.Dataset(X[tr_idx], y[tr_idx])\n",
    "    dval   = lgb.Dataset(X[val_idx], y[val_idx])\n",
    "\n",
    "    pbar = tqdm(total=NUM_ROUND, desc=f'Fold{fold}', leave=False)\n",
    "    def _cb(env):\n",
    "        pbar.update(env.iteration - pbar.n)\n",
    "        if env.evaluation_result_list:\n",
    "            _, _, auc, _ = env.evaluation_result_list[0]\n",
    "            pbar.set_postfix({'auc': f'{auc:.4f}'}, refresh=False)\n",
    "        if env.iteration + 1 == env.end_iteration: pbar.close()\n",
    "\n",
    "    model = lgb.train(\n",
    "        PARAMS,\n",
    "        dtrain,\n",
    "        num_boost_round=NUM_ROUND,\n",
    "        valid_sets=[dval],\n",
    "        valid_names=['val'],\n",
    "        callbacks=[\n",
    "            lgb.early_stopping(EARLY_STOP, first_metric_only=True, verbose=False),\n",
    "            _cb\n",
    "        ]\n",
    "    )\n",
    "\n",
    "    oof_pred[val_idx] = model.predict(X[val_idx], num_iteration=model.best_iteration)\n",
    "\n",
    "    test_blend[:, fold-1] = model.predict(Xte, num_iteration=model.best_iteration)\n",
    "\n",
    "    joblib.dump({\n",
    "        'val_idx'  : val_idx,\n",
    "        'val_pred' : oof_pred[val_idx].astype('float32'),\n",
    "        'test_pred': test_blend[:, fold-1].astype('float32'),\n",
    "        'feat_list': FEATS,\n",
    "        'best_iter': model.best_iteration,\n",
    "        'params'   : PARAMS\n",
    "    }, MODEL_DIR / f'lgb_fold{fold}.pkl', compress=3)\n",
    "    print(f'lgb_fold{fold}.pkl сохранён | best_iter={model.best_iteration}')"
   ],
   "id": "a68ce8382c04a00e",
   "outputs": [
    {
     "name": "stdout",
     "output_type": "stream",
     "text": [
      "\n",
      "─── FOLD 1/5 | train 2,400,000 | val 600,000 ───\n"
     ]
    },
    {
     "data": {
      "text/plain": [
       "Fold1:   0%|          | 0/6000 [00:00<?, ?it/s]"
      ],
      "application/vnd.jupyter.widget-view+json": {
       "version_major": 2,
       "version_minor": 0,
       "model_id": "43dba47244a34c8b8d3033143cefd139"
      }
     },
     "metadata": {},
     "output_type": "display_data"
    },
    {
     "name": "stdout",
     "output_type": "stream",
     "text": [
      "✓ lgb_fold1.pkl сохранён | best_iter=394\n",
      "\n",
      "─── FOLD 2/5 | train 2,400,000 | val 600,000 ───\n"
     ]
    },
    {
     "data": {
      "text/plain": [
       "Fold2:   0%|          | 0/6000 [00:00<?, ?it/s]"
      ],
      "application/vnd.jupyter.widget-view+json": {
       "version_major": 2,
       "version_minor": 0,
       "model_id": "9c77c4319b29491da50dbbfa0f419876"
      }
     },
     "metadata": {},
     "output_type": "display_data"
    },
    {
     "name": "stdout",
     "output_type": "stream",
     "text": [
      "✓ lgb_fold2.pkl сохранён | best_iter=319\n",
      "\n",
      "─── FOLD 3/5 | train 2,400,000 | val 600,000 ───\n"
     ]
    },
    {
     "data": {
      "text/plain": [
       "Fold3:   0%|          | 0/6000 [00:00<?, ?it/s]"
      ],
      "application/vnd.jupyter.widget-view+json": {
       "version_major": 2,
       "version_minor": 0,
       "model_id": "cad3544b791e40638b382a2cfa996c83"
      }
     },
     "metadata": {},
     "output_type": "display_data"
    },
    {
     "name": "stdout",
     "output_type": "stream",
     "text": [
      "✓ lgb_fold3.pkl сохранён | best_iter=338\n",
      "\n",
      "─── FOLD 4/5 | train 2,400,000 | val 600,000 ───\n"
     ]
    },
    {
     "data": {
      "text/plain": [
       "Fold4:   0%|          | 0/6000 [00:00<?, ?it/s]"
      ],
      "application/vnd.jupyter.widget-view+json": {
       "version_major": 2,
       "version_minor": 0,
       "model_id": "aafde1de190f4694a06121f176a229fc"
      }
     },
     "metadata": {},
     "output_type": "display_data"
    },
    {
     "name": "stdout",
     "output_type": "stream",
     "text": [
      "✓ lgb_fold4.pkl сохранён | best_iter=367\n",
      "\n",
      "─── FOLD 5/5 | train 2,400,000 | val 600,000 ───\n"
     ]
    },
    {
     "data": {
      "text/plain": [
       "Fold5:   0%|          | 0/6000 [00:00<?, ?it/s]"
      ],
      "application/vnd.jupyter.widget-view+json": {
       "version_major": 2,
       "version_minor": 0,
       "model_id": "a36d2d91acad402e968a39dc7ce51ea8"
      }
     },
     "metadata": {},
     "output_type": "display_data"
    },
    {
     "name": "stdout",
     "output_type": "stream",
     "text": [
      "✓ lgb_fold5.pkl сохранён | best_iter=388\n"
     ]
    }
   ],
   "execution_count": 6
  },
  {
   "metadata": {},
   "cell_type": "code",
   "source": [
    "# 9.  Финальная метрика OOF\n",
    "\n",
    "full_auc = roc_auc_score(y, oof_pred)\n",
    "print(f'\\nFULL OOF ROC-AUC = {full_auc:.5f}')\n",
    "\n",
    "# 10.  Сабмит\n",
    "\n",
    "final_test_pred = test_blend.mean(1)\n",
    "\n",
    "sample = pd.read_csv(os.path.join(DATA_DIR, 'sample_submission.csv'))\n",
    "sample['target'] = pd.Series(final_test_pred, index=test_ids)\\\n",
    "                     .reindex(sample['id']).values.astype('float32')\n",
    "\n",
    "SUB_NAME = f'submission_lgb_{full_auc:.5f}.csv'\n",
    "sample.to_csv(SUB_NAME, index=False)\n",
    "print('submission сохранён', SUB_NAME)"
   ],
   "id": "ea0279f856cf8d5a",
   "outputs": [],
   "execution_count": null
  }
 ],
 "metadata": {
  "kernelspec": {
   "display_name": "Python 3",
   "language": "python",
   "name": "python3"
  },
  "language_info": {
   "codemirror_mode": {
    "name": "ipython",
    "version": 2
   },
   "file_extension": ".py",
   "mimetype": "text/x-python",
   "name": "python",
   "nbconvert_exporter": "python",
   "pygments_lexer": "ipython2",
   "version": "2.7.6"
  }
 },
 "nbformat": 4,
 "nbformat_minor": 5
}
